{
 "cells": [
  {
   "cell_type": "code",
   "execution_count": 1,
   "metadata": {},
   "outputs": [],
   "source": [
    "# Import required libraries\n",
    "import pandas as pd\n",
    "import dash\n",
    "#import dash_html_components as html\n",
    "#import dash_core_components as dcc\n",
    "from dash import html, dcc\n",
    "from dash.dependencies import Input, Output\n",
    "import plotly.express as px"
   ]
  },
  {
   "cell_type": "code",
   "execution_count": 2,
   "metadata": {},
   "outputs": [],
   "source": [
    "# Read the airline data into pandas dataframe\n",
    "spacex_df = pd.read_csv(\"https://cf-courses-data.s3.us.cloud-object-storage.appdomain.cloud/IBM-DS0321EN-SkillsNetwork/datasets/spacex_launch_dash.csv\")\n",
    "max_payload = spacex_df['Payload Mass (kg)'].max()\n",
    "min_payload = spacex_df['Payload Mass (kg)'].min()"
   ]
  },
  {
   "cell_type": "code",
   "execution_count": 3,
   "metadata": {},
   "outputs": [],
   "source": [
    "sites = spacex_df['Launch Site'].unique()\n",
    "dropdown_list=[{'label':'All Sites', 'value':'All'}]\n",
    "for site in sites:\n",
    "    dropdown_list.append({'label':site, 'value':site})"
   ]
  },
  {
   "cell_type": "code",
   "execution_count": null,
   "metadata": {},
   "outputs": [],
   "source": [
    "\n",
    "# Create a dash application\n",
    "app = dash.Dash(__name__)\n",
    "\n",
    "# Create an app layout\n",
    "app.layout = html.Div(children=[html.H1('SpaceX Launch Records Dashboard',\n",
    "                                        style={'textAlign': 'center', 'color': '#503D36',\n",
    "                                               'font-size': 40}),\n",
    "                                # TASK 1: Add a dropdown list to enable Launch Site selection\n",
    "                                # The default select value is for ALL sites\n",
    "                                dcc.Dropdown(id='site-dropdown',\n",
    "                                            options=dropdown_list,\n",
    "                                            value='All',\n",
    "                                            placeholder='Selecr a Launch Site here',\n",
    "                                            searchable=True\n",
    "                                            ),\n",
    "                                html.Br(),\n",
    "\n",
    "                                # TASK 2: Add a pie chart to show the total successful launches count for all sites\n",
    "                                # If a specific launch site was selected, show the Success vs. Failed counts for the site\n",
    "                                html.Div(dcc.Graph(id='success-pie-chart')),\n",
    "                                html.Br(),\n",
    "\n",
    "                                html.P(\"Payload range (Kg):\"),\n",
    "                                # TASK 3: Add a slider to select payload range\n",
    "                                dcc.RangeSlider(id='payload-slider',\n",
    "                                                min=0, max=10000, step=1000,\n",
    "                                                marks={0:'0', 100: '100'},\n",
    "                                                value= [min_payload, max_payload]),\n",
    "\n",
    "                                # TASK 4: Add a scatter chart to show the correlation between payload and launch success\n",
    "                                html.Div(dcc.Graph(id='success-payload-scatter-chart')),\n",
    "                                ])\n",
    "\n",
    "# TASK 2:\n",
    "# Add a callback function for `site-dropdown` as input, `success-pie-chart` as output\n",
    "@app.callback(Output('success-pie-chart', 'figure'), Input('site-dropdown','value'))\n",
    "def dispay_pie_chart(selected_site):\n",
    "    if selected_site == 'All':\n",
    "        fig = px.pie(spacex_df, values='class', names='Launch Site', title='All Site')\n",
    "    else:\n",
    "        filtered_df = spacex_df[spacex_df['Launch Site']==selected_site].groupby('class').count().reset_index()\n",
    "        fig = px.pie(filtered_df, values='Launch Site', names='class', title=selected_site)\n",
    "    return fig\n",
    "\n",
    "# TASK 4:\n",
    "# Add a callback function for `site-dropdown` and `payload-slider` as inputs, `success-payload-scatter-chart` as output\n",
    "@app.callback(Output('success-payload-scatter-chart', 'figure'), [Input('site-dropdown', 'value'), Input('payload-slider', 'value')])\n",
    "def scatter_chart(selected_site, payload_range):\n",
    "    lo, hi = payload_range\n",
    "    scatter_df = spacex_df[spacex_df['Payload Mass (kg)'].between(lo, hi)]\n",
    "    if selected_site != 'All':\n",
    "        scatter_df = scatter_df[scatter_df['Launch Site']==selected_site]\n",
    "    fig = px.scatter(scatter_df, x='Payload Mass (kg)', y='class', color='Booster Version Category')\n",
    "    return fig\n",
    "# Run the app\n",
    "if __name__ == '__main__':\n",
    "    app.run_server()"
   ]
  }
 ],
 "metadata": {
  "kernelspec": {
   "display_name": "Python 3",
   "language": "python",
   "name": "python3"
  },
  "language_info": {
   "codemirror_mode": {
    "name": "ipython",
    "version": 3
   },
   "file_extension": ".py",
   "mimetype": "text/x-python",
   "name": "python",
   "nbconvert_exporter": "python",
   "pygments_lexer": "ipython3",
   "version": "3.10.7"
  },
  "orig_nbformat": 4,
  "vscode": {
   "interpreter": {
    "hash": "86c44dfeeeb453a6d274e29d9c12dd8e3ee16fdd2678af4f8d88c8339ca3933b"
   }
  }
 },
 "nbformat": 4,
 "nbformat_minor": 2
}
